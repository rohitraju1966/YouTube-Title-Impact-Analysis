{
  "nbformat": 4,
  "nbformat_minor": 0,
  "metadata": {
    "colab": {
      "provenance": []
    },
    "kernelspec": {
      "name": "python3",
      "display_name": "Python 3"
    },
    "language_info": {
      "name": "python"
    }
  },
  "cells": [
    {
      "cell_type": "code",
      "source": [
        "import googleapiclient.discovery\n",
        "import requests\n",
        "import pandas as pd\n",
        "import seaborn as sns"
      ],
      "metadata": {
        "id": "QytWhm2DPxOr"
      },
      "execution_count": null,
      "outputs": []
    },
    {
      "cell_type": "code",
      "source": [
        "\n",
        "# Function to grab all the required details from the given channel ID\n",
        "\n",
        "def get_video_details(CHANNEL_ID,API_key):\n",
        "  youtube = googleapiclient.discovery.build('youtube', 'v3', developerKey=API_key)\n",
        "  #Call the API to get video categories on youtube\n",
        "  categories_response = youtube.videoCategories().list(\n",
        "        part='snippet',\n",
        "        regionCode='US'\n",
        "  ).execute()\n",
        "\n",
        "  #Extract and store the video categories on youtube\n",
        "  categories_data = {}  #Categories of videos available on youtube, used to map categories during extraction.\n",
        "  categories = categories_response['items']\n",
        "  for category in categories:\n",
        "      category_id = category['id']\n",
        "      category_title = category['snippet']['title']\n",
        "      categories_data[category_id] = category_title\n",
        "\n",
        "  data = pd.DataFrame(columns=['Channel_ID', 'Video_ID', 'Title', 'Title_Length', 'Upload_Date', 'Video_Category', 'Views'])\n",
        "\n",
        "  for channel_ID in CHANNEL_ID:\n",
        "   pageToken = \"\"\n",
        "   while True:\n",
        "    url = f\"https://www.googleapis.com/youtube/v3/search?key={API_key}&channelId={channel_ID}&part=snippet,id&order=date&maxResults={10000}&pageToken={pageToken}\"\n",
        "    response = requests.get(url).json()\n",
        "    for video in response['items']:\n",
        "     if video['id']['kind'] == \"youtube#video\":\n",
        "        video_id = video['id']['videoId'] #video ID\n",
        "        video_title = video['snippet']['title']\n",
        "        video_title = str(video_title).replace(\"&amp\", \"\")  #TITLE\n",
        "        title_len = len(video_title)                        #TITLE LENGTH\n",
        "        upload_date = video['snippet']['publishedAt']\n",
        "        upload_date = str(upload_date).split(\"T\")[0]        #UPLOAD DATE\n",
        "\n",
        "     #Collecting views\n",
        "     url_video_stats = \"https://www.googleapis.com/youtube/v3/videos?id=\"+video_id+\"&key=\"+API_key+\"&part=snippet,contentDetails,statistics,status\"\n",
        "     response_video_stats = requests.get(url_video_stats).json()\n",
        "     view_count = response_video_stats['items'][0]['statistics']['viewCount'] #VIEWS\n",
        "\n",
        "     #Collecting Category ID and mapping it to it's respective category\n",
        "     url_video_stats_Cat_ID = f'https://www.googleapis.com/youtube/v3/videos?id={video_id}&part=snippet&key={API_key}'\n",
        "     response_video_stats = requests.get(url_video_stats_Cat_ID).json()\n",
        "     Category_ID=response_video_stats['items'][0]['snippet']['categoryId']\n",
        "     vid_category=categories_data[Category_ID] #VIDEO CATEGORY\n",
        "\n",
        "     if 0<=int(view_count)<=500000:\n",
        "      new_video_data = {\n",
        "       'Channel_ID': channel_ID,\n",
        "       'Video_ID': video_id,\n",
        "       'Title': video_title,\n",
        "       'Title_Length': int(title_len),\n",
        "       'Upload_Date': upload_date,\n",
        "       'Video_Category': vid_category,\n",
        "       'Views': int(view_count)\n",
        "      }\n",
        "\n",
        "      data.loc[len(data)] = new_video_data\n",
        "\n",
        "    pageToken = response.get(\"nextPageToken\", None)\n",
        "    if not pageToken:\n",
        "        break  # No more pages\n",
        "\n",
        "  data.drop_duplicates(inplace=True)\n",
        "  data.to_csv(\"Youtube_details.csv\")\n",
        "\n"
      ],
      "metadata": {
        "id": "15Smi6yvNGst"
      },
      "execution_count": null,
      "outputs": []
    },
    {
      "cell_type": "code",
      "source": [
        "channel_ids=[''] #insert Channel IDS here\n",
        "get_video_details(channel_ids,"") #Insert API key here"
      ],
      "metadata": {
        "id": "AfC06WfAbjVF"
      },
      "execution_count": null,
      "outputs": []
    }
  ]
}
